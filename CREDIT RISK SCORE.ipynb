{
 "cells": [
  {
   "cell_type": "markdown",
   "id": "executive-keeping",
   "metadata": {},
   "source": [
    "# KUESKI CHALLENGE 5"
   ]
  },
  {
   "cell_type": "code",
   "execution_count": 1,
   "id": "coordinated-holder",
   "metadata": {},
   "outputs": [
    {
     "name": "stdout",
     "output_type": "stream",
     "text": [
      "4.14.3\n"
     ]
    }
   ],
   "source": [
    "import numpy as np\n",
    "import pandas as pd\n",
    "import seaborn as sns\n",
    "import matplotlib.pyplot as plt\n",
    "from plotly import __version__\n",
    "print(__version__)\n",
    "import plotly.express as px\n",
    "import plotly.graph_objects as go\n",
    "from plotly.subplots import make_subplots\n",
    "import statsmodels.api as sm\n",
    "pd.set_option('display.float_format', lambda x: '%.4f' % x)\n",
    "pd.set_option('display.max_columns', None)\n",
    "import tensorflow_data_validation as dv\n",
    "from pylab import rcParams\n",
    "from scipy.stats import f_oneway\n",
    "from scipy.stats import ttest_ind"
   ]
  },
  {
   "cell_type": "markdown",
   "id": "handled-number",
   "metadata": {},
   "source": [
    "IMPORT DATA"
   ]
  },
  {
   "cell_type": "code",
   "execution_count": 2,
   "id": "breeding-estate",
   "metadata": {},
   "outputs": [],
   "source": [
    "df=pd.read_excel('/Users/fabiobisognin/Desktop/CHALLENGE5.xlsx')\n",
    "december= pd.read_excel('/Users/fabiobisognin/Desktop/December.xlsx')"
   ]
  },
  {
   "cell_type": "markdown",
   "id": "utility-orange",
   "metadata": {},
   "source": [
    "USEFULL TRANSFORMATION"
   ]
  },
  {
   "cell_type": "code",
   "execution_count": 3,
   "id": "collaborative-exclusive",
   "metadata": {},
   "outputs": [],
   "source": [
    "data=df#leave a copy of the original"
   ]
  },
  {
   "cell_type": "code",
   "execution_count": 4,
   "id": "altered-demand",
   "metadata": {},
   "outputs": [],
   "source": [
    "data['status']= data['status'].replace('loan', '0')\n",
    "data['status']= data['status'].replace('paid', '1')\n",
    "data['status']=data['status'].astype(int)\n",
    "\n",
    "#fully_paid_on_time ADD COLUMN\n",
    "data['fully_ontime']=data['loan_amount']-data['principalpaid_on_time']+1\n",
    "data.loc[data['fully_ontime']>1, 'fully_ontime']=0\n",
    "\n",
    "#total_ontime ADD COLUMN\n",
    "data['total_late']=data['principalpal_until_past_due_7_days']-data['principalpaid_on_time']\n",
    "data.loc[data['total_late'] == data['principalpaid_on_time'], 'total_late'] = 0\n",
    "\n",
    "#fully_paid_late  ADD COLUMN\n",
    "data['fully_late']=data['loan_amount']-data['principalpal_until_past_due_7_days']+1\n",
    "data.loc[data['fully_late']>1, 'fully_late']=0\n",
    "\n",
    "#experiment_control SPLIT DATASET\n",
    "exp=data.loc[data['experiment'] == 'experiment']\n",
    "cont=data.loc[data['experiment'] == 'control']\n",
    "\n"
   ]
  },
  {
   "cell_type": "code",
   "execution_count": 5,
   "id": "modular-hartford",
   "metadata": {},
   "outputs": [
    {
     "name": "stderr",
     "output_type": "stream",
     "text": [
      "<ipython-input-5-ff8e94c4fbd4>:2: SettingWithCopyWarning: \n",
      "A value is trying to be set on a copy of a slice from a DataFrame.\n",
      "Try using .loc[row_indexer,col_indexer] = value instead\n",
      "\n",
      "See the caveats in the documentation: https://pandas.pydata.org/pandas-docs/stable/user_guide/indexing.html#returning-a-view-versus-a-copy\n",
      "  experiment['gender']=experiment['gender'].astype(str)\n",
      "<ipython-input-5-ff8e94c4fbd4>:3: SettingWithCopyWarning: \n",
      "A value is trying to be set on a copy of a slice from a DataFrame.\n",
      "Try using .loc[row_indexer,col_indexer] = value instead\n",
      "\n",
      "See the caveats in the documentation: https://pandas.pydata.org/pandas-docs/stable/user_guide/indexing.html#returning-a-view-versus-a-copy\n",
      "  experiment['urban_city']=experiment['urban_city'].astype(str)\n",
      "<ipython-input-5-ff8e94c4fbd4>:4: SettingWithCopyWarning: \n",
      "A value is trying to be set on a copy of a slice from a DataFrame.\n",
      "Try using .loc[row_indexer,col_indexer] = value instead\n",
      "\n",
      "See the caveats in the documentation: https://pandas.pydata.org/pandas-docs/stable/user_guide/indexing.html#returning-a-view-versus-a-copy\n",
      "  experiment['device']=experiment['device'].astype(str)\n",
      "<ipython-input-5-ff8e94c4fbd4>:7: SettingWithCopyWarning: \n",
      "A value is trying to be set on a copy of a slice from a DataFrame.\n",
      "Try using .loc[row_indexer,col_indexer] = value instead\n",
      "\n",
      "See the caveats in the documentation: https://pandas.pydata.org/pandas-docs/stable/user_guide/indexing.html#returning-a-view-versus-a-copy\n",
      "  control['gender']=control['gender'].astype(str)\n",
      "<ipython-input-5-ff8e94c4fbd4>:8: SettingWithCopyWarning: \n",
      "A value is trying to be set on a copy of a slice from a DataFrame.\n",
      "Try using .loc[row_indexer,col_indexer] = value instead\n",
      "\n",
      "See the caveats in the documentation: https://pandas.pydata.org/pandas-docs/stable/user_guide/indexing.html#returning-a-view-versus-a-copy\n",
      "  control['urban_city']=control['urban_city'].astype(str)\n",
      "<ipython-input-5-ff8e94c4fbd4>:9: SettingWithCopyWarning: \n",
      "A value is trying to be set on a copy of a slice from a DataFrame.\n",
      "Try using .loc[row_indexer,col_indexer] = value instead\n",
      "\n",
      "See the caveats in the documentation: https://pandas.pydata.org/pandas-docs/stable/user_guide/indexing.html#returning-a-view-versus-a-copy\n",
      "  control['device']=control['device'].astype(str)\n"
     ]
    }
   ],
   "source": [
    "experiment=exp[['status', 'due_date', 'paid_date', 'loan_amount',  'risk_score', 'gender', 'age', 'dependants', 'device', 'urban_city' ]]\n",
    "experiment['gender']=experiment['gender'].astype(str)\n",
    "experiment['urban_city']=experiment['urban_city'].astype(str)\n",
    "experiment['device']=experiment['device'].astype(str)\n",
    "\n",
    "control=cont[['status', 'due_date', 'paid_date', 'loan_amount',  'risk_score', 'gender', 'age', 'dependants', 'device', 'urban_city' ]]\n",
    "control['gender']=control['gender'].astype(str)\n",
    "control['urban_city']=control['urban_city'].astype(str)\n",
    "control['device']=control['device'].astype(str)\n"
   ]
  },
  {
   "cell_type": "markdown",
   "id": "circular-bridal",
   "metadata": {},
   "source": [
    "# 1 - Is recovery affected if we do not call versus calling every day until the loan is paid?"
   ]
  },
  {
   "cell_type": "markdown",
   "id": "useful-track",
   "metadata": {},
   "source": [
    "Recovery as the loan is fully paid."
   ]
  },
  {
   "cell_type": "code",
   "execution_count": 6,
   "id": "accessible-garbage",
   "metadata": {},
   "outputs": [
    {
     "name": "stdout",
     "output_type": "stream",
     "text": [
      "The mean of the fully paid loan when we don't call is 84.2%\n",
      "The mean of the fully paid loan when we call is 85.54%\n",
      "If we call the loan the full recovery increases by 1.54% of the potential loss\n"
     ]
    }
   ],
   "source": [
    "#prueba hipotesis t o z\n",
    "print(f\"The mean of the fully paid loan when we don't call is {round(exp.status.mean()*100, 2)}%\")\n",
    "print(f\"The mean of the fully paid loan when we call is {round(cont.status.mean()*100, 2)}%\")\n",
    "print(f\"If we call the loan the full recovery increases by {round((cont.status.mean()*100)-round(exp.status.mean()*100), 2)}% of the potential loss\")"
   ]
  },
  {
   "cell_type": "markdown",
   "id": "equipped-lexington",
   "metadata": {},
   "source": [
    "Recovery as total paid on time"
   ]
  },
  {
   "cell_type": "code",
   "execution_count": 7,
   "id": "wrapped-breed",
   "metadata": {},
   "outputs": [
    {
     "name": "stdout",
     "output_type": "stream",
     "text": [
      "The mean of the fully paid on time loan when we don't call is 53.51%\n",
      "The mean of the fully paid on time loan when we call is 53.81%\n",
      "If we call the loan the full recovery on time increases by 0.3% of the potential loss\n"
     ]
    }
   ],
   "source": [
    "print(f\"The mean of the fully paid on time loan when we don't call is {round(exp.fully_ontime.mean()*100, 2)}%\")\n",
    "print(f\"The mean of the fully paid on time loan when we call is {round(cont.fully_ontime.mean()*100, 2)}%\")\n",
    "print(f\"If we call the loan the full recovery on time increases by {round((cont.fully_ontime.mean()*100)-(exp.fully_ontime.mean()*100), 2)}% of the potential loss\")"
   ]
  },
  {
   "cell_type": "markdown",
   "id": "inclusive-monte",
   "metadata": {},
   "source": [
    "Recovery as total paid 7 days past due"
   ]
  },
  {
   "cell_type": "code",
   "execution_count": 8,
   "id": "ecological-transaction",
   "metadata": {},
   "outputs": [
    {
     "name": "stdout",
     "output_type": "stream",
     "text": [
      "The mean of the fully late paid loan when we don't call is 80.66%\n",
      "The mean of the fully late paid loan when we call is 81.29%\n",
      "If we call the loan the full late recovery increases by 0.64% of the potential loss\n"
     ]
    }
   ],
   "source": [
    "print(f\"The mean of the fully late paid loan when we don't call is {round(exp.fully_late.mean()*100, 2)}%\")\n",
    "print(f\"The mean of the fully late paid loan when we call is {round(cont.fully_late.mean()*100, 2)}%\")\n",
    "print(f\"If we call the loan the full late recovery increases by {round((cont.fully_late.mean()*100)-(exp.fully_late.mean()*100), 2)}% of the potential loss\")"
   ]
  },
  {
   "cell_type": "markdown",
   "id": "capable-russian",
   "metadata": {},
   "source": [
    "IS THERE ANY DIFFERENCE IF WE CALL OR NOT TO THE CUSTOMERS EVERYDAY?\n",
    "STATISTICAL DESCRIPTION"
   ]
  },
  {
   "cell_type": "code",
   "execution_count": 9,
   "id": "internal-jewel",
   "metadata": {},
   "outputs": [
    {
     "data": {
      "text/html": [
       "<iframe id='facets-iframe' width=\"100%\" height=\"500px\"></iframe>\n",
       "        <script>\n",
       "        facets_iframe = document.getElementById('facets-iframe');\n",
       "        facets_html = '<script src=\"https://cdnjs.cloudflare.com/ajax/libs/webcomponentsjs/1.3.3/webcomponents-lite.js\"><\\/script><link rel=\"import\" href=\"https://raw.githubusercontent.com/PAIR-code/facets/master/facets-dist/facets-jupyter.html\"><facets-overview proto-input=\"CscuCg5saHNfc3RhdGlzdGljcxC1HhqVBxqIBwq2Agi1HhgBIAEtAACAPzKkAhobCQAAAAAAAPA/EQAAAAAAAPA/Ic3MzMzMVHhAGhsJAAAAAAAA8D8RAAAAAAAA8D8hzczMzMxUeEAaGwkAAAAAAADwPxEAAAAAAADwPyHNzMzMzFR4QBobCQAAAAAAAPA/EQAAAAAAAPA/Ic3MzMzMVHhAGhsJAAAAAAAA8D8RAAAAAAAA8D8hzczMzMxUeEAaGwkAAAAAAADwPxEAAAAAAADwPyHNzMzMzFR4QBobCQAAAAAAAPA/EQAAAAAAAPA/Ic3MzMzMVHhAGhsJAAAAAAAA8D8RAAAAAAAA8D8hzczMzMxUeEAaGwkAAAAAAADwPxEAAAAAAADwPyHNzMzMzFR4QBobCQAAAAAAAPA/EQAAAAAAAPA/Ic3MzMzMVHhAIAFAtR4RsQwjn9zx6j8ZK3ZRr4tX1z8g5wQxAAAAAAAA8D85AAAAAAAA8D9CmQIaEhGamZmZmZm5PyGi1jTvuByDQBobCZqZmZmZmbk/EZqZmZmZmck/IZhMFYxK6tg/GhsJmpmZmZmZyT8RNDMzMzMz0z8hmkwVjErq2D8aGwk0MzMzMzPTPxGamZmZmZnZPyGWTBWMSurYPxobCZqZmZmZmdk/EQAAAAAAAOA/IZZMFYxK6tg/GhsJAAAAAAAA4D8RNDMzMzMz4z8hnkwVjErq2D8aGwk0MzMzMzPjPxFnZmZmZmbmPyGWTBWMSurYPxobCWdmZmZmZuY/EZqZmZmZmek/IZZMFYxK6tg/GhsJmpmZmZmZ6T8RzczMzMzM7D8hlkwVjErq2D8aGwnNzMzMzMzsPxEAAAAAAADwPyEExY8xl5ypQEKJAhoJIczMzMzMVHhAGhIRAAAAAAAA8D8hzMzMzMxUeEAaGwkAAAAAAADwPxEAAAAAAADwPyHMzMzMzFR4QBobCQAAAAAAAPA/EQAAAAAAAPA/IczMzMzMVHhAGhsJAAAAAAAA8D8RAAAAAAAA8D8hzMzMzMxUeEAaGwkAAAAAAADwPxEAAAAAAADwPyHMzMzMzFR4QBobCQAAAAAAAPA/EQAAAAAAAPA/IczMzMzMVHhAGhsJAAAAAAAA8D8RAAAAAAAA8D8hzMzMzMxUeEAaGwkAAAAAAADwPxEAAAAAAADwPyHMzMzMzFR4QBobCQAAAAAAAPA/EQAAAAAAAPA/IczMzMzMVHhAIAFCCAoGc3RhdHVzGsQHGrIHCrYCCLUeGAEgAS0AAIA/MqQCGhsJAAAAAAAA8D8RAAAAAAAA8D8hzczMzMxUeEAaGwkAAAAAAADwPxEAAAAAAADwPyHNzMzMzFR4QBobCQAAAAAAAPA/EQAAAAAAAPA/Ic3MzMzMVHhAGhsJAAAAAAAA8D8RAAAAAAAA8D8hzczMzMxUeEAaGwkAAAAAAADwPxEAAAAAAADwPyHNzMzMzFR4QBobCQAAAAAAAPA/EQAAAAAAAPA/Ic3MzMzMVHhAGhsJAAAAAAAA8D8RAAAAAAAA8D8hzczMzMxUeEAaGwkAAAAAAADwPxEAAAAAAADwPyHNzMzMzFR4QBobCQAAAAAAAPA/EQAAAAAAAPA/Ic3MzMzMVHhAGhsJAAAAAAAA8D8RAAAAAAAA8D8hzczMzMxUeEAgAUC1HhHzFnfZYeihQBnFQKioQPdyQCkAAAAAAMCSQDEAAAAAAPihQDkAAAAAAFirQEKiAhobCQAAAAAAwJJAEQAAAAAAWJZAIQ1Pr5Rl6CFAGhsJAAAAAABYlkARAAAAAADwmUAhlSGOdXHjSUAaGwkAAAAAAPCZQBEAAAAAAIidQCG3QILix15sQBobCQAAAAAAiJ1AEQAAAAAAkKBAIV+YTBUMW41AGhsJAAAAAACQoEARAAAAAABcokAhmnecoqOLj0AaGwkAAAAAAFyiQBEAAAAAACikQCGCc0aUdgSMQBobCQAAAAAAKKRAEQAAAAAA9KVAIXNGlPaGn4NAGhsJAAAAAAD0pUARAAAAAADAp0AhrbZif9mRWkAaGwkAAAAAAMCnQBEAAAAAAIypQCEkv1jyi7U2QBobCQAAAAAAjKlAEQAAAAAAWKtAIb2+6XCH4AdAQqQCGhsJAAAAAADAkkARAAAAAACwnUAhzMzMzMxUeEAaGwkAAAAAALCdQBEAAAAAAECfQCHMzMzMzFR4QBobCQAAAAAAQJ9AEQAAAAAAaKBAIczMzMzMVHhAGhsJAAAAAABooEARAAAAAAAwoUAhzMzMzMxUeEAaGwkAAAAAADChQBEAAAAAAPihQCHMzMzMzFR4QBobCQAAAAAA+KFAEQAAAAAAwKJAIczMzMzMVHhAGhsJAAAAAADAokARAAAAAADAokAhzMzMzMxUeEAaGwkAAAAAAMCiQBEAAAAAAIijQCHMzMzMzFR4QBobCQAAAAAAiKNAEQAAAAAAGKVAIczMzMzMVHhAGhsJAAAAAAAYpUARAAAAAABYq0AhzMzMzMxUeEAgAUINCgtsb2FuX2Ftb3VudBrFBxABGrIHCrYCCLUeGAEgAS0AAIA/MqQCGhsJAAAAAAAA8D8RAAAAAAAA8D8hzczMzMxUeEAaGwkAAAAAAADwPxEAAAAAAADwPyHNzMzMzFR4QBobCQAAAAAAAPA/EQAAAAAAAPA/Ic3MzMzMVHhAGhsJAAAAAAAA8D8RAAAAAAAA8D8hzczMzMxUeEAaGwkAAAAAAADwPxEAAAAAAADwPyHNzMzMzFR4QBobCQAAAAAAAPA/EQAAAAAAAPA/Ic3MzMzMVHhAGhsJAAAAAAAA8D8RAAAAAAAA8D8hzczMzMxUeEAaGwkAAAAAAADwPxEAAAAAAADwPyHNzMzMzFR4QBobCQAAAAAAAPA/EQAAAAAAAPA/Ic3MzMzMVHhAGhsJAAAAAAAA8D8RAAAAAAAA8D8hzczMzMxUeEAgAUC1HhEqJPyG8knrPxlDAQXKYy2/PymR7Xw/NV66PzGmm8QgsHLsPzlWDi2yne/vP0KiAhobCZHtfD81Xro/EaRwPQrXo8g/Ide2eZ0CcQVAGhsJpHA9CtejyD8RPzVeukkM0j8hXd8xPkVKCkAaGwk/NV66SQzSPxEssp3vp8bXPyGtsutrjPUdQBobCSyyne+nxtc/ERov3SQGgd0/IQ4Ykp1FAytAGhsJGi/dJAaB3T8RBFYOLbKd4T8hJjUtFOqePEAaGwkEVg4tsp3hPxF6FK5H4XrkPyFkdAAm5QFaQBobCXoUrkfheuQ/EfHSTWIQWOc/IStcj8J1jYJAGhsJ8dJNYhBY5z8RaJHtfD816j8hjWzn+yl1gUAaGwloke18PzXqPxHfT42XbhLtPyFUDi2yHY6LQBobCd9PjZduEu0/EVYOLbKd7+8/IbFyaJEtjZpAQqQCGhsJke18PzVeuj8RbxKDwMqh5T8hzMzMzMxUeEAaGwlvEoPAyqHlPxGwcmiR7XznPyHMzMzMzFR4QBobCbByaJHtfOc/EcUgsHJokek/IczMzMzMVHhAGhsJxSCwcmiR6T8RiUFg5dAi6z8hzMzMzMxUeEAaGwmJQWDl0CLrPxGmm8QgsHLsPyHMzMzMzFR4QBobCaabxCCwcuw/EfLSTWIQWO0/IczMzMzMVHhAGhsJ8tJNYhBY7T8RkxgEVg4t7j8hzMzMzMxUeEAaGwmTGARWDi3uPxEMAiuHFtnuPyHMzMzMzFR4QBobCQwCK4cW2e4/ETEIrBxaZO8/IczMzMzMVHhAGhsJMQisHFpk7z8RVg4tsp3v7z8hzMzMzMxUeEAgAUIMCgpyaXNrX3Njb3JlGp8DEAIikAMKtgIItR4YASABLQAAgD8ypAIaGwkAAAAAAADwPxEAAAAAAADwPyHNzMzMzFR4QBobCQAAAAAAAPA/EQAAAAAAAPA/Ic3MzMzMVHhAGhsJAAAAAAAA8D8RAAAAAAAA8D8hzczMzMxUeEAaGwkAAAAAAADwPxEAAAAAAADwPyHNzMzMzFR4QBobCQAAAAAAAPA/EQAAAAAAAPA/Ic3MzMzMVHhAGhsJAAAAAAAA8D8RAAAAAAAA8D8hzczMzMxUeEAaGwkAAAAAAADwPxEAAAAAAADwPyHNzMzMzFR4QBobCQAAAAAAAPA/EQAAAAAAAPA/Ic3MzMzMVHhAGhsJAAAAAAAA8D8RAAAAAAAA8D8hzczMzMxUeEAaGwkAAAAAAADwPxEAAAAAAADwPyHNzMzMzFR4QCABQLUeEAIaEBIFTXVqZXIZAAAAAAAQokAaERIGSG9tYnJlGQAAAAAAtJhAJeL+rEAqKQoQIgVNdWplcikAAAAAABCiQAoVCAEQASIGSG9tYnJlKQAAAAAAtJhAQggKBmdlbmRlchq8BxqyBwq2Agi1HhgBIAEtAACAPzKkAhobCQAAAAAAAPA/EQAAAAAAAPA/Ic3MzMzMVHhAGhsJAAAAAAAA8D8RAAAAAAAA8D8hzczMzMxUeEAaGwkAAAAAAADwPxEAAAAAAADwPyHNzMzMzFR4QBobCQAAAAAAAPA/EQAAAAAAAPA/Ic3MzMzMVHhAGhsJAAAAAAAA8D8RAAAAAAAA8D8hzczMzMxUeEAaGwkAAAAAAADwPxEAAAAAAADwPyHNzMzMzFR4QBobCQAAAAAAAPA/EQAAAAAAAPA/Ic3MzMzMVHhAGhsJAAAAAAAA8D8RAAAAAAAA8D8hzczMzMxUeEAaGwkAAAAAAADwPxEAAAAAAADwPyHNzMzMzFR4QBobCQAAAAAAAPA/EQAAAAAAAPA/Ic3MzMzMVHhAIAFAtR4RHQvbqWVeQUAZ5JKakcfZKEApAAAAAAAAMkAxAAAAAACAQUA5AAAAAAAATEBCogIaGwkAAAAAAAAyQBHNzMzMzMw1QCGU9gZfmNyKQBobCc3MzMzMzDVAEZqZmZmZmTlAIeviNhrAF3ZAGhsJmpmZmZmZOUARZmZmZmZmPUAh8GPMXUssc0AaGwlmZmZmZmY9QBGamZmZmZlAQCFwzojS3qhzQBobCZqZmZmZmUBAEQAAAAAAgEJAITTvOEVHeHFAGhsJAAAAAACAQkARZmZmZmZmREAhLEMc6+JcdUAaGwlmZmZmZmZEQBHMzMzMzExGQCEmwoanV0h4QBobCczMzMzMTEZAETMzMzMzM0hAIW6jAbwFonRAGhsJMzMzMzMzSEARmZmZmZkZSkAhbHh6pSybdUAaGwmZmZmZmRlKQBEAAAAAAABMQCEo7Q2+ME93QEKkAhobCQAAAAAAADJAEQAAAAAAADJAIczMzMzMVHhAGhsJAAAAAAAAMkARAAAAAAAANEAhzMzMzMxUeEAaGwkAAAAAAAA0QBEAAAAAAAA5QCHMzMzMzFR4QBobCQAAAAAAADlAEQAAAAAAAD5AIczMzMzMVHhAGhsJAAAAAAAAPkARAAAAAACAQUAhzMzMzMxUeEAaGwkAAAAAAIBBQBEAAAAAAIBDQCHMzMzMzFR4QBobCQAAAAAAgENAEQAAAAAAgEVAIczMzMzMVHhAGhsJAAAAAACARUARAAAAAAAASEAhzMzMzMxUeEAaGwkAAAAAAABIQBEAAAAAAABKQCHMzMzMzFR4QBobCQAAAAAAAEpAEQAAAAAAAExAIczMzMzMVHhAIAFCBQoDYWdlGuMGGtIGCrYCCLUeGAEgAS0AAIA/MqQCGhsJAAAAAAAA8D8RAAAAAAAA8D8hzczMzMxUeEAaGwkAAAAAAADwPxEAAAAAAADwPyHNzMzMzFR4QBobCQAAAAAAAPA/EQAAAAAAAPA/Ic3MzMzMVHhAGhsJAAAAAAAA8D8RAAAAAAAA8D8hzczMzMxUeEAaGwkAAAAAAADwPxEAAAAAAADwPyHNzMzMzFR4QBobCQAAAAAAAPA/EQAAAAAAAPA/Ic3MzMzMVHhAGhsJAAAAAAAA8D8RAAAAAAAA8D8hzczMzMxUeEAaGwkAAAAAAADwPxEAAAAAAADwPyHNzMzMzFR4QBobCQAAAAAAAPA/EQAAAAAAAPA/Ic3MzMzMVHhAGhsJAAAAAAAA8D8RAAAAAAAA8D8hzczMzMxUeEAgAUC1HhEq11j1WQjtPxnpiz239hzxPyD1DjEAAAAAAADwPzkAAAAAAAAIQEKZAhoSETMzMzMzM9M/Id++Dpzz0p1AGhsJMzMzMzMz0z8RMzMzMzMz4z8hcvkP6bev8j8aGwkzMzMzMzPjPxHMzMzMzMzsPyFx+Q/pt6/yPxobCczMzMzMzOw/ETMzMzMzM/M/IZ7Nqs9VmY1AGhsJMzMzMzMz8z8RAAAAAAAA+D8hc/kP6bev8j8aGwkAAAAAAAD4PxHMzMzMzMz8PyFv+Q/pt6/yPxobCczMzMzMzPw/Ec3MzMzMzABAIVtCPuhZGIBAGhsJzczMzMzMAEARMzMzMzMzA0Ahb/kP6bev8j8aGwkzMzMzMzMDQBGZmZmZmZkFQCFv+Q/pt6/yPxobCZmZmZmZmQVAEQAAAAAAAAhAIVtCPuhZGIBAQtMBGgkhzMzMzMxUeEAaCSHMzMzMzFR4QBoJIczMzMzMVHhAGgkhzMzMzMxUeEAaEhEAAAAAAADwPyHMzMzMzFR4QBobCQAAAAAAAPA/EQAAAAAAAPA/IczMzMzMVHhAGhsJAAAAAAAA8D8RAAAAAAAA8D8hzMzMzMxUeEAaGwkAAAAAAADwPxEAAAAAAAAAQCHMzMzMzFR4QBobCQAAAAAAAABAEQAAAAAAAAhAIczMzMzMVHhAGhsJAAAAAAAACEARAAAAAAAACEAhzMzMzMxUeEAgAUIMCgpkZXBlbmRhbnRzGp0DEAIijgMKtgIItR4YASABLQAAgD8ypAIaGwkAAAAAAADwPxEAAAAAAADwPyHNzMzMzFR4QBobCQAAAAAAAPA/EQAAAAAAAPA/Ic3MzMzMVHhAGhsJAAAAAAAA8D8RAAAAAAAA8D8hzczMzMxUeEAaGwkAAAAAAADwPxEAAAAAAADwPyHNzMzMzFR4QBobCQAAAAAAAPA/EQAAAAAAAPA/Ic3MzMzMVHhAGhsJAAAAAAAA8D8RAAAAAAAA8D8hzczMzMxUeEAaGwkAAAAAAADwPxEAAAAAAADwPyHNzMzMzFR4QBobCQAAAAAAAPA/EQAAAAAAAPA/Ic3MzMzMVHhAGhsJAAAAAAAA8D8RAAAAAAAA8D8hzczMzMxUeEAaGwkAAAAAAADwPxEAAAAAAADwPyHNzMzMzFR4QCABQLUeEAIaDhIDaW9zGQAAAAAApKlAGhISB2FuZHJvaWQZAAAAAAAYg0AlxS1oQCooCg4iA2lvcykAAAAAAKSpQAoWCAEQASIHYW5kcm9pZCkAAAAAABiDQEIICgZkZXZpY2UaowMQAiKQAwq2Agi1HhgBIAEtAACAPzKkAhobCQAAAAAAAPA/EQAAAAAAAPA/Ic3MzMzMVHhAGhsJAAAAAAAA8D8RAAAAAAAA8D8hzczMzMxUeEAaGwkAAAAAAADwPxEAAAAAAADwPyHNzMzMzFR4QBobCQAAAAAAAPA/EQAAAAAAAPA/Ic3MzMzMVHhAGhsJAAAAAAAA8D8RAAAAAAAA8D8hzczMzMxUeEAaGwkAAAAAAADwPxEAAAAAAADwPyHNzMzMzFR4QBobCQAAAAAAAPA/EQAAAAAAAPA/Ic3MzMzMVHhAGhsJAAAAAAAA8D8RAAAAAAAA8D8hzczMzMxUeEAaGwkAAAAAAADwPxEAAAAAAADwPyHNzMzMzFR4QBobCQAAAAAAAPA/EQAAAAAAAPA/Ic3MzMzMVHhAIAFAtR4QAhoREgZ1cmJhbm8ZAAAAAADmqUAaEBIFcnVyYWwZAAAAAAAQgkAluD+7QCopChEiBnVyYmFubykAAAAAAOapQAoUCAEQASIFcnVyYWwpAAAAAAAQgkBCDAoKdXJiYW5fY2l0eQqsLgoOcmhzX3N0YXRpc3RpY3MQvx8alQcaiAcKtgIIvx8YASABLQAAgD8ypAIaGwkAAAAAAADwPxEAAAAAAADwPyGamZmZmTF5QBobCQAAAAAAAPA/EQAAAAAAAPA/IZqZmZmZMXlAGhsJAAAAAAAA8D8RAAAAAAAA8D8hmpmZmZkxeUAaGwkAAAAAAADwPxEAAAAAAADwPyGamZmZmTF5QBobCQAAAAAAAPA/EQAAAAAAAPA/IZqZmZmZMXlAGhsJAAAAAAAA8D8RAAAAAAAA8D8hmpmZmZkxeUAaGwkAAAAAAADwPxEAAAAAAADwPyGamZmZmTF5QBobCQAAAAAAAPA/EQAAAAAAAPA/IZqZmZmZMXlAGhsJAAAAAAAA8D8RAAAAAAAA8D8hmpmZmZkxeUAaGwkAAAAAAADwPxEAAAAAAADwPyGamZmZmTF5QCABQL8fERh0JL4yX+s/GYlPwuyvgtY/IMcEMQAAAAAAAPA/OQAAAAAAAPA/QpkCGhIRmpmZmZmZuT8h5PIf0u8mgkAaGwmamZmZmZm5PxGamZmZmZnJPyFcIEHxY8zZPxobCZqZmZmZmck/ETQzMzMzM9M/IV4gQfFjzNk/GhsJNDMzMzMz0z8RmpmZmZmZ2T8hWiBB8WPM2T8aGwmamZmZmZnZPxEAAAAAAADgPyFaIEHxY8zZPxobCQAAAAAAAOA/ETQzMzMzM+M/IWIgQfFjzNk/GhsJNDMzMzMz4z8RZ2ZmZmZm5j8hWiBB8WPM2T8aGwlnZmZmZmbmPxGamZmZmZnpPyFaIEHxY8zZPxobCZqZmZmZmek/Ec3MzMzMzOw/IVogQfFjzNk/GhsJzczMzMzM7D8RAAAAAAAA8D8h/rJ78tDtqkBCiQIaCSGZmZmZmTF5QBoSEQAAAAAAAPA/IZmZmZmZMXlAGhsJAAAAAAAA8D8RAAAAAAAA8D8hmZmZmZkxeUAaGwkAAAAAAADwPxEAAAAAAADwPyGZmZmZmTF5QBobCQAAAAAAAPA/EQAAAAAAAPA/IZmZmZmZMXlAGhsJAAAAAAAA8D8RAAAAAAAA8D8hmZmZmZkxeUAaGwkAAAAAAADwPxEAAAAAAADwPyGZmZmZmTF5QBobCQAAAAAAAPA/EQAAAAAAAPA/IZmZmZmZMXlAGhsJAAAAAAAA8D8RAAAAAAAA8D8hmZmZmZkxeUAaGwkAAAAAAADwPxEAAAAAAADwPyGZmZmZmTF5QCABQggKBnN0YXR1cxrEBxqyBwq2Agi/HxgBIAEtAACAPzKkAhobCQAAAAAAAPA/EQAAAAAAAPA/IZqZmZmZMXlAGhsJAAAAAAAA8D8RAAAAAAAA8D8hmpmZmZkxeUAaGwkAAAAAAADwPxEAAAAAAADwPyGamZmZmTF5QBobCQAAAAAAAPA/EQAAAAAAAPA/IZqZmZmZMXlAGhsJAAAAAAAA8D8RAAAAAAAA8D8hmpmZmZkxeUAaGwkAAAAAAADwPxEAAAAAAADwPyGamZmZmTF5QBobCQAAAAAAAPA/EQAAAAAAAPA/IZqZmZmZMXlAGhsJAAAAAAAA8D8RAAAAAAAA8D8hmpmZmZkxeUAaGwkAAAAAAADwPxEAAAAAAADwPyGamZmZmTF5QBobCQAAAAAAAPA/EQAAAAAAAPA/IZqZmZmZMXlAIAFAvx8R1d1lRPX2oUAZm+9lCDnXckApAAAAAAAwkUAxAAAAAAD4oUA5AAAAAACQqkBCogIaGwkAAAAAADCRQBEAAAAAAMiUQCFCz2bV54oSQBobCQAAAAAAyJRAEQAAAAAAYJhAIYBIv30d8DFAGhsJAAAAAABgmEARAAAAAAD4m0AhjqD4MeaKX0AaGwkAAAAAAPibQBEAAAAAAJCfQCFVn6utWLKEQBobCQAAAAAAkJ9AEQAAAAAAlKFAIUIc6+K2Ao1AGhsJAAAAAACUoUARAAAAAABgo0Ahxf6ye7K1kEAaGwkAAAAAAGCjQBEAAAAAACylQCEeFmpNc+SNQBobCQAAAAAALKVAEQAAAAAA+KZAIUp7gy9MWGlAGhsJAAAAAAD4pkARAAAAAADEqEAhGJXUCWjKSEAaGwkAAAAAAMSoQBEAAAAAAJCqQCFeKcsQx5oqQEKkAhobCQAAAAAAMJFAEQAAAAAAsJ1AIZmZmZmZMXlAGhsJAAAAAACwnUARAAAAAABAn0AhmZmZmZkxeUAaGwkAAAAAAECfQBEAAAAAAGigQCGZmZmZmTF5QBobCQAAAAAAaKBAEQAAAAAAMKFAIZmZmZmZMXlAGhsJAAAAAAAwoUARAAAAAAD4oUAhmZmZmZkxeUAaGwkAAAAAAPihQBEAAAAAAMCiQCGZmZmZmTF5QBobCQAAAAAAwKJAEQAAAAAAiKNAIZmZmZmZMXlAGhsJAAAAAACIo0ARAAAAAACIo0AhmZmZmZkxeUAaGwkAAAAAAIijQBEAAAAAABilQCGZmZmZmTF5QBobCQAAAAAAGKVAEQAAAAAAkKpAIZmZmZmZMXlAIAFCDQoLbG9hbl9hbW91bnQaxQcQARqyBwq2Agi/HxgBIAEtAACAPzKkAhobCQAAAAAAAPA/EQAAAAAAAPA/IZqZmZmZMXlAGhsJAAAAAAAA8D8RAAAAAAAA8D8hmpmZmZkxeUAaGwkAAAAAAADwPxEAAAAAAADwPyGamZmZmTF5QBobCQAAAAAAAPA/EQAAAAAAAPA/IZqZmZmZMXlAGhsJAAAAAAAA8D8RAAAAAAAA8D8hmpmZmZkxeUAaGwkAAAAAAADwPxEAAAAAAADwPyGamZmZmTF5QBobCQAAAAAAAPA/EQAAAAAAAPA/IZqZmZmZMXlAGhsJAAAAAAAA8D8RAAAAAAAA8D8hmpmZmZkxeUAaGwkAAAAAAADwPxEAAAAAAADwPyGamZmZmTF5QBobCQAAAAAAAPA/EQAAAAAAAPA/IZqZmZmZMXlAIAFAvx8R5GXzS29Z6z8ZUbjQJP4ivz8ppHA9CtejwD8xexSuR+F67D85K4cW2c737z9CogIaGwmkcD0K16PAPxGlTkATYcPLPyHjMASGkE4EQBobCaVOQBNhw8s/EVOWIY51cdM/IVxe0rdPzBJAGhsJU5YhjnVx0z8RVAWjkjoB2T8hO47BVA+OJEAaGwlUBaOSOgHZPxFUdCSX/5DePyELkcyVtFYuQBobCVR0JJf/kN4/Earx0k1iEOI/IQ6XkckLsT5AGhsJqvHSTWIQ4j8RK6kT0ETY5D8h7KZVVg+FZ0AaGwkrqRPQRNjkPxGrYFRSJ6DnPyGTy39IP3+BQBobCatgVFInoOc/ESsYldQJaOo/IQY0ETa8QIJAGhsJKxiV1Alo6j8Rq8/VVuwv7T8hA1+YTJXTi0AaGwmrz9VW7C/tPxErhxbZzvfvPyHCZKpgFESbQEKkAhobCaRwPQrXo8A/EZqZmZmZmeU/IZmZmZmZMXlAGhsJmpmZmZmZ5T8RBFYOLbKd5z8hmZmZmZkxeUAaGwkEVg4tsp3nPxEZBFYOLbLpPyGZmZmZmTF5QBobCRkEVg4tsuk/EQisHFpkO+s/IZmZmZmZMXlAGhsJCKwcWmQ76z8RexSuR+F67D8hmZmZmZkxeUAaGwl7FK5H4XrsPxEbL90kBoHtPyGZmZmZmTF5QBobCRsv3SQGge0/ET0K16NwPe4/IZmZmZmZMXlAGhsJPQrXo3A97j8RDAIrhxbZ7j8hmZmZmZkxeUAaGwkMAiuHFtnuPxExCKwcWmTvPyGZmZmZmTF5QBobCTEIrBxaZO8/ESuHFtnO9+8/IZmZmZmZMXlAIAFCDAoKcmlza19zY29yZRqfAxACIpADCrYCCL8fGAEgAS0AAIA/MqQCGhsJAAAAAAAA8D8RAAAAAAAA8D8hmpmZmZkxeUAaGwkAAAAAAADwPxEAAAAAAADwPyGamZmZmTF5QBobCQAAAAAAAPA/EQAAAAAAAPA/IZqZmZmZMXlAGhsJAAAAAAAA8D8RAAAAAAAA8D8hmpmZmZkxeUAaGwkAAAAAAADwPxEAAAAAAADwPyGamZmZmTF5QBobCQAAAAAAAPA/EQAAAAAAAPA/IZqZmZmZMXlAGhsJAAAAAAAA8D8RAAAAAAAA8D8hmpmZmZkxeUAaGwkAAAAAAADwPxEAAAAAAADwPyGamZmZmTF5QBobCQAAAAAAAPA/EQAAAAAAAPA/IZqZmZmZMXlAGhsJAAAAAAAA8D8RAAAAAAAA8D8hmpmZmZkxeUAgAUC/HxACGhASBU11amVyGQAAAAAAeqJAGhESBkhvbWJyZRkAAAAAAAiaQCW7Oa1AKikKECIFTXVqZXIpAAAAAAB6okAKFQgBEAEiBkhvbWJyZSkAAAAAAAiaQEIICgZnZW5kZXIavAcasgcKtgIIvx8YASABLQAAgD8ypAIaGwkAAAAAAADwPxEAAAAAAADwPyGamZmZmTF5QBobCQAAAAAAAPA/EQAAAAAAAPA/IZqZmZmZMXlAGhsJAAAAAAAA8D8RAAAAAAAA8D8hmpmZmZkxeUAaGwkAAAAAAADwPxEAAAAAAADwPyGamZmZmTF5QBobCQAAAAAAAPA/EQAAAAAAAPA/IZqZmZmZMXlAGhsJAAAAAAAA8D8RAAAAAAAA8D8hmpmZmZkxeUAaGwkAAAAAAADwPxEAAAAAAADwPyGamZmZmTF5QBobCQAAAAAAAPA/EQAAAAAAAPA/IZqZmZmZMXlAGhsJAAAAAAAA8D8RAAAAAAAA8D8hmpmZmZkxeUAaGwkAAAAAAADwPxEAAAAAAADwPyGamZmZmTF5QCABQL8fEawWJUhwaEFAGVDoNhnTYShAKQAAAAAAADJAMQAAAAAAgEFAOQAAAAAAAExAQqICGhsJAAAAAAAAMkARzczMzMzMNUAhzojS3uCNikAaGwnNzMzMzMw1QBGamZmZmZk5QCGdEaW9wZ11QBobCZqZmZmZmTlAEWZmZmZmZj1AIZwRpb3BnXVAGhsJZmZmZmZmPUARmpmZmZmZQEAh4JwRpb2fdkAaGwmamZmZmZlAQBEAAAAAAIBCQCG+wRcmU1VxQBobCQAAAAAAgEJAEWZmZmZmZkRAIYLix5i7IHdAGhsJZmZmZmZmREARzMzMzMxMRkAh9EpZhjjid0AaGwnMzMzMzExGQBEzMzMzMzNIQCGWkA96NmN4QBobCTMzMzMzM0hAEZmZmZmZGUpAIT5XW7G/HnZAGhsJmZmZmZkZSkARAAAAAAAATEAhPldbsb8edkBCpAIaGwkAAAAAAAAyQBEAAAAAAAAyQCGZmZmZmTF5QBobCQAAAAAAADJAEQAAAAAAADVAIZmZmZmZMXlAGhsJAAAAAAAANUARAAAAAAAAOkAhmZmZmZkxeUAaGwkAAAAAAAA6QBEAAAAAAAA+QCGZmZmZmTF5QBobCQAAAAAAAD5AEQAAAAAAgEFAIZmZmZmZMXlAGhsJAAAAAACAQUARAAAAAACAQ0AhmZmZmZkxeUAaGwkAAAAAAIBDQBEAAAAAAIBFQCGZmZmZmTF5QBobCQAAAAAAgEVAEQAAAAAAgEdAIZmZmZmZMXlAGhsJAAAAAACAR0ARAAAAAAAASkAhmZmZmZkxeUAaGwkAAAAAAABKQBEAAAAAAABMQCGZmZmZmTF5QCABQgUKA2FnZRrIBhq3Bgq2Agi/HxgBIAEtAACAPzKkAhobCQAAAAAAAPA/EQAAAAAAAPA/IZqZmZmZMXlAGhsJAAAAAAAA8D8RAAAAAAAA8D8hmpmZmZkxeUAaGwkAAAAAAADwPxEAAAAAAADwPyGamZmZmTF5QBobCQAAAAAAAPA/EQAAAAAAAPA/IZqZmZmZMXlAGhsJAAAAAAAA8D8RAAAAAAAA8D8hmpmZmZkxeUAaGwkAAAAAAADwPxEAAAAAAADwPyGamZmZmTF5QBobCQAAAAAAAPA/EQAAAAAAAPA/IZqZmZmZMXlAGhsJAAAAAAAA8D8RAAAAAAAA8D8hmpmZmZkxeUAaGwkAAAAAAADwPxEAAAAAAADwPyGamZmZmTF5QBobCQAAAAAAAPA/EQAAAAAAAPA/IZqZmZmZMXlAIAFAvx8RwwSLTYVz6z8Z+z6iHQba8D8giRA5AAAAAAAACEBCmQIaEhEzMzMzMzPTPyGgibDhCRKgQBobCTMzMzMzM9M/ETMzMzMzM+M/IUTY8PRKWfM/GhsJMzMzMzMz4z8RzMzMzMzM7D8hQ9jw9EpZ8z8aGwnMzMzMzMzsPxEzMzMzMzPzPyHKMsSxrgaPQBobCTMzMzMzM/M/EQAAAAAAAPg/IUXY8PRKWfM/GhsJAAAAAAAA+D8RzMzMzMzM/D8hQdjw9EpZ8z8aGwnMzMzMzMz8PxHNzMzMzMwAQCF/t0CC4kx9QBobCc3MzMzMzABAETMzMzMzMwNAIUHY8PRKWfM/GhsJMzMzMzMzA0ARmZmZmZmZBUAhQdjw9EpZ8z8aGwmZmZmZmZkFQBEAAAAAAAAIQCHX8PRKWZF/QELBARoJIZmZmZmZMXlAGgkhmZmZmZkxeUAaCSGZmZmZmTF5QBoJIZmZmZmZMXlAGgkhmZmZmZkxeUAaEhEAAAAAAADwPyGZmZmZmTF5QBobCQAAAAAAAPA/EQAAAAAAAPA/IZmZmZmZMXlAGhsJAAAAAAAA8D8RAAAAAAAAAEAhmZmZmZkxeUAaGwkAAAAAAAAAQBEAAAAAAAAIQCGZmZmZmTF5QBobCQAAAAAAAAhAEQAAAAAAAAhAIZmZmZmZMXlAIAFCDAoKZGVwZW5kYW50cxqdAxACIo4DCrYCCL8fGAEgAS0AAIA/MqQCGhsJAAAAAAAA8D8RAAAAAAAA8D8hmpmZmZkxeUAaGwkAAAAAAADwPxEAAAAAAADwPyGamZmZmTF5QBobCQAAAAAAAPA/EQAAAAAAAPA/IZqZmZmZMXlAGhsJAAAAAAAA8D8RAAAAAAAA8D8hmpmZmZkxeUAaGwkAAAAAAADwPxEAAAAAAADwPyGamZmZmTF5QBobCQAAAAAAAPA/EQAAAAAAAPA/IZqZmZmZMXlAGhsJAAAAAAAA8D8RAAAAAAAA8D8hmpmZmZkxeUAaGwkAAAAAAADwPxEAAAAAAADwPyGamZmZmTF5QBobCQAAAAAAAPA/EQAAAAAAAPA/IZqZmZmZMXlAGhsJAAAAAAAA8D8RAAAAAAAA8D8hmpmZmZkxeUAgAUC/HxACGg4SA2lvcxkAAAAAAOqqQBoSEgdhbmRyb2lkGQAAAAAAUIJAJTA3ZUAqKAoOIgNpb3MpAAAAAADqqkAKFggBEAEiB2FuZHJvaWQpAAAAAABQgkBCCAoGZGV2aWNlGqMDEAIikAMKtgIIvx8YASABLQAAgD8ypAIaGwkAAAAAAADwPxEAAAAAAADwPyGamZmZmTF5QBobCQAAAAAAAPA/EQAAAAAAAPA/IZqZmZmZMXlAGhsJAAAAAAAA8D8RAAAAAAAA8D8hmpmZmZkxeUAaGwkAAAAAAADwPxEAAAAAAADwPyGamZmZmTF5QBobCQAAAAAAAPA/EQAAAAAAAPA/IZqZmZmZMXlAGhsJAAAAAAAA8D8RAAAAAAAA8D8hmpmZmZkxeUAaGwkAAAAAAADwPxEAAAAAAADwPyGamZmZmTF5QBobCQAAAAAAAPA/EQAAAAAAAPA/IZqZmZmZMXlAGhsJAAAAAAAA8D8RAAAAAAAA8D8hmpmZmZkxeUAaGwkAAAAAAADwPxEAAAAAAADwPyGamZmZmTF5QCABQL8fEAIaERIGdXJiYW5vGQAAAAAApqpAGhASBXJ1cmFsGQAAAAAAYINAJQEUu0AqKQoRIgZ1cmJhbm8pAAAAAACmqkAKFAgBEAEiBXJ1cmFsKQAAAAAAYINAQgwKCnVyYmFuX2NpdHk=\"></facets-overview>';\n",
       "        facets_iframe.srcdoc = facets_html;\n",
       "         facets_iframe.id = \"\";\n",
       "         setTimeout(() => {\n",
       "           facets_iframe.setAttribute('height', facets_iframe.contentWindow.document.body.offsetHeight + 'px')\n",
       "         }, 1500)\n",
       "         </script>"
      ],
      "text/plain": [
       "<IPython.core.display.HTML object>"
      ]
     },
     "metadata": {},
     "output_type": "display_data"
    }
   ],
   "source": [
    "ex = dv.generate_statistics_from_dataframe(experiment)\n",
    "ct = dv.generate_statistics_from_dataframe(control)\n",
    "dv.visualize_statistics(lhs_statistics=ex,\n",
    "                        rhs_statistics=ct)"
   ]
  },
  {
   "cell_type": "markdown",
   "id": "revolutionary-solomon",
   "metadata": {},
   "source": [
    "T-TEST NULL HIPOTESIS: IF WE CALL EVERYDAY THE CHANCES TO RECOVER THE LOAN ARE NOT HIGHER"
   ]
  },
  {
   "cell_type": "code",
   "execution_count": 10,
   "id": "compound-intake",
   "metadata": {},
   "outputs": [],
   "source": [
    "exp_recovery= np.asarray(data[['principalpal_until_past_due_7_days']])\n",
    "cont_recovery= np.asarray(data[['principalpal_until_past_due_7_days']])"
   ]
  },
  {
   "cell_type": "code",
   "execution_count": 11,
   "id": "fifty-coaching",
   "metadata": {},
   "outputs": [],
   "source": [
    "\n",
    "def plot_distribution(inp):\n",
    "    plt.figure()\n",
    "    ax = sns.distplot(inp)\n",
    "    plt.axvline(np.mean(inp), color=\"k\", linestyle=\"dashed\", linewidth=5)\n",
    "    _, max_ = plt.ylim()\n",
    "    plt.text(\n",
    "        inp.mean() + inp.mean() / 10,\n",
    "        max_ - max_ / 10,\n",
    "        \"Mean: {:.2f}\".format(inp.mean()),\n",
    "    )\n",
    "    return plt.figure"
   ]
  },
  {
   "cell_type": "code",
   "execution_count": 12,
   "id": "sustainable-agriculture",
   "metadata": {},
   "outputs": [
    {
     "name": "stderr",
     "output_type": "stream",
     "text": [
      "/usr/local/lib/python3.8/site-packages/seaborn/distributions.py:2557: FutureWarning: `distplot` is a deprecated function and will be removed in a future version. Please adapt your code to use either `displot` (a figure-level function with similar flexibility) or `histplot` (an axes-level function for histograms).\n",
      "  warnings.warn(msg, FutureWarning)\n",
      "/usr/local/lib/python3.8/site-packages/seaborn/distributions.py:2557: FutureWarning: `distplot` is a deprecated function and will be removed in a future version. Please adapt your code to use either `displot` (a figure-level function with similar flexibility) or `histplot` (an axes-level function for histograms).\n",
      "  warnings.warn(msg, FutureWarning)\n"
     ]
    },
    {
     "data": {
      "text/plain": [
       "<matplotlib.lines.Line2D at 0x15b0f1d90>"
      ]
     },
     "execution_count": 12,
     "metadata": {},
     "output_type": "execute_result"
    },
    {
     "data": {
      "image/png": "[encoded data removed]",
      "text/plain": [
       "<Figure size 432x288 with 1 Axes>"
      ]
     },
     "metadata": {
      "needs_background": "light"
     },
     "output_type": "display_data"
    }
   ],
   "source": [
    "plt.figure()\n",
    "ax1 = sns.distplot(exp_recovery)\n",
    "ax2 = sns.distplot(cont_recovery)\n",
    "plt.axvline(np.mean(exp_recovery), color='b', linestyle='dashed', linewidth=5)\n",
    "plt.axvline(np.mean(cont_recovery), color='orange', linestyle='dashed', linewidth=5)"
   ]
  },
  {
   "cell_type": "code",
   "execution_count": 13,
   "id": "friendly-plant",
   "metadata": {},
   "outputs": [],
   "source": [
    "def compare_2_groups(arr_1, arr_2, alpha, sample_size):\n",
    "    stat, p = ttest_ind(arr_1, arr_2)\n",
    "    print('Statistics=%.3f, p=%.3f' % (stat, p))\n",
    "    if p > alpha:\n",
    "        print('Same distributions (fail to reject H0)')\n",
    "    else:\n",
    "        print('Different distributions (reject H0)')"
   ]
  },
  {
   "cell_type": "code",
   "execution_count": 14,
   "id": "tutorial-opportunity",
   "metadata": {},
   "outputs": [
    {
     "name": "stdout",
     "output_type": "stream",
     "text": [
      "Statistics=-0.757, p=0.449\n",
      "Same distributions (fail to reject H0)\n"
     ]
    }
   ],
   "source": [
    "sample_size = 500\n",
    "exp_sampled = np.random.choice(len(exp_recovery), sample_size)\n",
    "cont_sampled = np.random.choice(len(cont_recovery), sample_size)\n",
    "compare_2_groups(exp_sampled, cont_sampled, 0.05, sample_size)"
   ]
  },
  {
   "cell_type": "markdown",
   "id": "continued-tribune",
   "metadata": {},
   "source": [
    "As P-Value is higer than 0.05 so it is not statistically significant and indicates strong evidence for the null hypothesis. \n",
    "This means that if we call everyday our customers the chances to recover the credit are not statisticly higer than just calling them on the 6 days past due."
   ]
  },
  {
   "cell_type": "markdown",
   "id": "entertaining-philadelphia",
   "metadata": {},
   "source": [
    "# 2. Which group had the greatest loss rate?"
   ]
  },
  {
   "cell_type": "code",
   "execution_count": 16,
   "id": "artificial-floating",
   "metadata": {},
   "outputs": [],
   "source": [
    "\n",
    "data['loss_rate']=(data['loan_amount']-data['principalpal_until_past_due_7_days'])/(data['loan_amount'])\n"
   ]
  },
  {
   "cell_type": "code",
   "execution_count": 17,
   "id": "beneficial-costume",
   "metadata": {},
   "outputs": [
    {
     "data": {
      "text/plain": [
       "0.0000    6417\n",
       "1.0000    1507\n",
       "Name: loss_rate, dtype: int64"
      ]
     },
     "execution_count": 17,
     "metadata": {},
     "output_type": "execute_result"
    }
   ],
   "source": [
    "\n",
    "data.loss_rate.value_counts()"
   ]
  },
  {
   "cell_type": "markdown",
   "id": "orange-block",
   "metadata": {},
   "source": [
    "Partial loan recovery do not exist so I split into two groups"
   ]
  },
  {
   "cell_type": "code",
   "execution_count": 18,
   "id": "informed-tennis",
   "metadata": {},
   "outputs": [],
   "source": [
    "stat=data\n",
    "stat=pd.get_dummies(stat, columns=['status','gender', 'experiment', 'device', 'loan_usage', 'urban_city'], prefix = ['','', '','','',''])"
   ]
  },
  {
   "cell_type": "markdown",
   "id": "unavailable-router",
   "metadata": {},
   "source": [
    "CORRELATION ANALISIS"
   ]
  },
  {
   "cell_type": "code",
   "execution_count": 19,
   "id": "chronic-scanner",
   "metadata": {},
   "outputs": [
    {
     "data": {
      "text/plain": [
       "<AxesSubplot:>"
      ]
     },
     "execution_count": 19,
     "metadata": {},
     "output_type": "execute_result"
    },
    {
     "data": {
      "image/png": "[encoded data removed]",
      "text/plain": [
       "<Figure size 432x288 with 2 Axes>"
      ]
     },
     "metadata": {
      "needs_background": "light"
     },
     "output_type": "display_data"
    }
   ],
   "source": [
    "stat_loan=stat[['_0','loan_amount', 'dependants','age', 'risk_score', '_Hombre','_Mujer', '_control','_experiment','_android', '_ios', '_Educacion', '_Inversion', '_Otros', '_Personal', '_rural', '_urbano']]\n",
    "stat_loan.columns=['loan','loan_amount', 'dependants','age', 'risk_score', 'Hombre','Mujer', 'control','experiment','android', 'ios', 'Educacion', 'Inversion', 'Otros', 'Personal', 'rural', 'urbano']\n",
    "cmap = sns.diverging_palette(120,6,as_cmap=True)\n",
    "sns.heatmap(stat_loan.corr(),cmap=cmap)"
   ]
  },
  {
   "cell_type": "markdown",
   "id": "unlike-cisco",
   "metadata": {},
   "source": [
    "IF WE CHECK THE CORRELATION GRAPHIC WE CAN SEE THAT LOAN STATUS RELATES TO:\n",
    "- HIGH RISK RATE (quite obvious)\n",
    "- 'OTROS' LOAN USAGE\n",
    "- FROM RURAL AREA\n",
    "- USE ANDROID DEVICE \n",
    "HOWEVER THOSE CORRELATIONS ARE QUITE WEAK IN BOTH WAYS (POSITIVE AND NEGATIVE). WE CAN SEE THESE INTO THE OTHER CHARTS HERE BELOW."
   ]
  },
  {
   "cell_type": "code",
   "execution_count": 21,
   "id": "lucky-nomination",
   "metadata": {},
   "outputs": [],
   "source": [
    "loan=data[['experiment', 'loan_amount', 'dependants','device', 'loan_usage', 'age', 'risk_score', 'gender', 'urban_city']][data['status']==0]\n",
    "paid=data[['experiment', 'loan_amount', 'dependants','device', 'loan_usage', 'age', 'risk_score', 'gender', 'urban_city']][data['status']==1]\n"
   ]
  },
  {
   "cell_type": "code",
   "execution_count": 22,
   "id": "worth-turner",
   "metadata": {},
   "outputs": [
    {
     "data": {
      "text/html": [
       "<iframe id='facets-iframe' width=\"100%\" height=\"500px\"></iframe>\n",
       "        <script>\n",
       "        facets_iframe = document.getElementById('facets-iframe');\n",
       "        facets_html = '<script src=\"https://cdnjs.cloudflare.com/ajax/libs/webcomponentsjs/1.3.3/webcomponents-lite.js\"><\\/script><link rel=\"import\" href=\"https://raw.githubusercontent.com/PAIR-code/facets/master/facets-dist/facets-jupyter.html\"><facets-overview proto-input=\"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\"></facets-overview>';\n",
       "        facets_iframe.srcdoc = facets_html;\n",
       "         facets_iframe.id = \"\";\n",
       "         setTimeout(() => {\n",
       "           facets_iframe.setAttribute('height', facets_iframe.contentWindow.document.body.offsetHeight + 'px')\n",
       "         }, 1500)\n",
       "         </script>"
      ],
      "text/plain": [
       "<IPython.core.display.HTML object>"
      ]
     },
     "metadata": {},
     "output_type": "display_data"
    }
   ],
   "source": [
    "l = dv.generate_statistics_from_dataframe(loan)\n",
    "p = dv.generate_statistics_from_dataframe(paid)\n",
    "dv.visualize_statistics(lhs_statistics=l,\n",
    "                        rhs_statistics=p)"
   ]
  },
  {
   "cell_type": "markdown",
   "id": "desperate-triangle",
   "metadata": {},
   "source": [
    "# 3. What is the expected recovery if we don’t call until 7 days past due?"
   ]
  },
  {
   "cell_type": "markdown",
   "id": "injured-poland",
   "metadata": {},
   "source": [
    "I START BY ANALYZING THE EXPERIMENT GROUP AND CHECK WHAT HAPPENS WITHIN THE NEXT 2 DAYS. THEN I APPLY A LINEAR PREDICTION TO ANSWER THE QUESTION."
   ]
  },
  {
   "cell_type": "code",
   "execution_count": 23,
   "id": "registered-frontier",
   "metadata": {},
   "outputs": [],
   "source": [
    "lost= exp[exp['principalpal_until_past_due_7_days']==0]\n",
    "recovered=exp[exp['principalpal_until_past_due_7_days']!=0]"
   ]
  },
  {
   "cell_type": "code",
   "execution_count": 24,
   "id": "professional-talent",
   "metadata": {},
   "outputs": [
    {
     "name": "stderr",
     "output_type": "stream",
     "text": [
      "<ipython-input-24-a33f041ffa27>:1: SettingWithCopyWarning:\n",
      "\n",
      "\n",
      "A value is trying to be set on a copy of a slice from a DataFrame.\n",
      "Try using .loc[row_indexer,col_indexer] = value instead\n",
      "\n",
      "See the caveats in the documentation: https://pandas.pydata.org/pandas-docs/stable/user_guide/indexing.html#returning-a-view-versus-a-copy\n",
      "\n"
     ]
    }
   ],
   "source": [
    "recovered['pay_difference']=recovered['paid_date']-recovered['due_date']"
   ]
  },
  {
   "cell_type": "code",
   "execution_count": 25,
   "id": "blocked-brooklyn",
   "metadata": {},
   "outputs": [],
   "source": [
    "recovery=recovered.groupby('pay_difference').agg({'loan_amount':'sum', 'principalpaid_on_time':'sum', 'total_late':'sum'}).reset_index()\n",
    "recovery['percentage']=recovery['loan_amount']*100/recovery['loan_amount'].sum()\n",
    "recovery['pay_difference']=recovery['pay_difference'].astype(str).map(lambda x: str(x)[:-4])\n",
    "recovery['pay_difference']=recovery['pay_difference'].astype(int)\n"
   ]
  },
  {
   "cell_type": "markdown",
   "id": "strange-nicholas",
   "metadata": {},
   "source": [
    "DISPLAY CREDIT RECOVERY DISTRIBUTION"
   ]
  },
  {
   "cell_type": "code",
   "execution_count": 26,
   "id": "textile-atlanta",
   "metadata": {},
   "outputs": [
    {
     "data": {
      "text/plain": [
       "<AxesSubplot:xlabel='pay_difference'>"
      ]
     },
     "execution_count": 26,
     "metadata": {},
     "output_type": "execute_result"
    },
    {
     "data": {
      "image/png": "[encoded data removed]",
      "text/plain": [
       "<Figure size 432x288 with 1 Axes>"
      ]
     },
     "metadata": {
      "needs_background": "light"
     },
     "output_type": "display_data"
    }
   ],
   "source": [
    "recovery.plot(x='pay_difference', y='total_late')"
   ]
  },
  {
   "cell_type": "markdown",
   "id": "cardiovascular-trademark",
   "metadata": {},
   "source": [
    "LINEAR ANALIS PREDICTION"
   ]
  },
  {
   "cell_type": "code",
   "execution_count": 28,
   "id": "disabled-enlargement",
   "metadata": {},
   "outputs": [],
   "source": [
    "from fbprophet import Prophet"
   ]
  },
  {
   "cell_type": "code",
   "execution_count": 29,
   "id": "growing-minister",
   "metadata": {},
   "outputs": [],
   "source": [
    "r=recovery[['total_late', 'pay_difference']]\n",
    "r=r.tail(7)\n",
    "r=r[:-1]\n"
   ]
  },
  {
   "cell_type": "code",
   "execution_count": 30,
   "id": "suburban-omega",
   "metadata": {},
   "outputs": [],
   "source": [
    "\n",
    "r['date'] = ['1970-01-01', '1970-01-02', '1970-01-03',\\\n",
    "             '1970-01-04', '1970-01-05', '1970-01-06']\n",
    "r=r[['total_late', 'date']]\n",
    "\n",
    "r.rename(columns = {'total_late':'y', 'date':'ds'}, inplace = True)\n"
   ]
  },
  {
   "cell_type": "code",
   "execution_count": 31,
   "id": "coordinated-youth",
   "metadata": {},
   "outputs": [
    {
     "name": "stderr",
     "output_type": "stream",
     "text": [
      "INFO:fbprophet:Disabling yearly seasonality. Run prophet with yearly_seasonality=True to override this.\n",
      "INFO:fbprophet:Disabling weekly seasonality. Run prophet with weekly_seasonality=True to override this.\n",
      "INFO:fbprophet:Disabling daily seasonality. Run prophet with daily_seasonality=True to override this.\n",
      "INFO:fbprophet:n_changepoints greater than number of observations. Using 3.\n"
     ]
    }
   ],
   "source": [
    "m = Prophet(interval_width=0.95)\n",
    "model = m.fit(r)\n"
   ]
  },
  {
   "cell_type": "code",
   "execution_count": 32,
   "id": "reported-update",
   "metadata": {},
   "outputs": [
    {
     "data": {
      "text/html": [
       "<div>\n",
       "<style scoped>\n",
       "    .dataframe tbody tr th:only-of-type {\n",
       "        vertical-align: middle;\n",
       "    }\n",
       "\n",
       "    .dataframe tbody tr th {\n",
       "        vertical-align: top;\n",
       "    }\n",
       "\n",
       "    .dataframe thead th {\n",
       "        text-align: right;\n",
       "    }\n",
       "</style>\n",
       "<table border=\"1\" class=\"dataframe\">\n",
       "  <thead>\n",
       "    <tr style=\"text-align: right;\">\n",
       "      <th></th>\n",
       "      <th>ds</th>\n",
       "      <th>trend</th>\n",
       "      <th>yhat_lower</th>\n",
       "      <th>yhat_upper</th>\n",
       "      <th>trend_lower</th>\n",
       "      <th>trend_upper</th>\n",
       "      <th>additive_terms</th>\n",
       "      <th>additive_terms_lower</th>\n",
       "      <th>additive_terms_upper</th>\n",
       "      <th>multiplicative_terms</th>\n",
       "      <th>multiplicative_terms_lower</th>\n",
       "      <th>multiplicative_terms_upper</th>\n",
       "      <th>yhat</th>\n",
       "    </tr>\n",
       "  </thead>\n",
       "  <tbody>\n",
       "    <tr>\n",
       "      <th>0</th>\n",
       "      <td>1970-01-01</td>\n",
       "      <td>229046.9126</td>\n",
       "      <td>181015.1615</td>\n",
       "      <td>276782.7375</td>\n",
       "      <td>229046.9126</td>\n",
       "      <td>229046.9126</td>\n",
       "      <td>0.0000</td>\n",
       "      <td>0.0000</td>\n",
       "      <td>0.0000</td>\n",
       "      <td>0.0000</td>\n",
       "      <td>0.0000</td>\n",
       "      <td>0.0000</td>\n",
       "      <td>229046.9126</td>\n",
       "    </tr>\n",
       "    <tr>\n",
       "      <th>1</th>\n",
       "      <td>1970-01-02</td>\n",
       "      <td>187312.6598</td>\n",
       "      <td>139092.4230</td>\n",
       "      <td>236039.2995</td>\n",
       "      <td>187312.6598</td>\n",
       "      <td>187312.6598</td>\n",
       "      <td>0.0000</td>\n",
       "      <td>0.0000</td>\n",
       "      <td>0.0000</td>\n",
       "      <td>0.0000</td>\n",
       "      <td>0.0000</td>\n",
       "      <td>0.0000</td>\n",
       "      <td>187312.6598</td>\n",
       "    </tr>\n",
       "    <tr>\n",
       "      <th>2</th>\n",
       "      <td>1970-01-03</td>\n",
       "      <td>145578.4071</td>\n",
       "      <td>98799.4248</td>\n",
       "      <td>194506.2203</td>\n",
       "      <td>145578.4071</td>\n",
       "      <td>145578.4071</td>\n",
       "      <td>0.0000</td>\n",
       "      <td>0.0000</td>\n",
       "      <td>0.0000</td>\n",
       "      <td>0.0000</td>\n",
       "      <td>0.0000</td>\n",
       "      <td>0.0000</td>\n",
       "      <td>145578.4071</td>\n",
       "    </tr>\n",
       "    <tr>\n",
       "      <th>3</th>\n",
       "      <td>1970-01-04</td>\n",
       "      <td>103844.1545</td>\n",
       "      <td>57815.3808</td>\n",
       "      <td>152322.9214</td>\n",
       "      <td>103844.1545</td>\n",
       "      <td>103844.1545</td>\n",
       "      <td>0.0000</td>\n",
       "      <td>0.0000</td>\n",
       "      <td>0.0000</td>\n",
       "      <td>0.0000</td>\n",
       "      <td>0.0000</td>\n",
       "      <td>0.0000</td>\n",
       "      <td>103844.1545</td>\n",
       "    </tr>\n",
       "    <tr>\n",
       "      <th>4</th>\n",
       "      <td>1970-01-05</td>\n",
       "      <td>62109.9019</td>\n",
       "      <td>16643.2384</td>\n",
       "      <td>111101.3224</td>\n",
       "      <td>62109.9019</td>\n",
       "      <td>62109.9019</td>\n",
       "      <td>0.0000</td>\n",
       "      <td>0.0000</td>\n",
       "      <td>0.0000</td>\n",
       "      <td>0.0000</td>\n",
       "      <td>0.0000</td>\n",
       "      <td>0.0000</td>\n",
       "      <td>62109.9019</td>\n",
       "    </tr>\n",
       "    <tr>\n",
       "      <th>5</th>\n",
       "      <td>1970-01-06</td>\n",
       "      <td>20375.6493</td>\n",
       "      <td>-27223.6505</td>\n",
       "      <td>68388.4965</td>\n",
       "      <td>20375.6493</td>\n",
       "      <td>20375.6493</td>\n",
       "      <td>0.0000</td>\n",
       "      <td>0.0000</td>\n",
       "      <td>0.0000</td>\n",
       "      <td>0.0000</td>\n",
       "      <td>0.0000</td>\n",
       "      <td>0.0000</td>\n",
       "      <td>20375.6493</td>\n",
       "    </tr>\n",
       "    <tr>\n",
       "      <th>6</th>\n",
       "      <td>1970-01-07</td>\n",
       "      <td>-21358.6032</td>\n",
       "      <td>-69876.0267</td>\n",
       "      <td>26496.2179</td>\n",
       "      <td>-21358.6040</td>\n",
       "      <td>-21358.6024</td>\n",
       "      <td>0.0000</td>\n",
       "      <td>0.0000</td>\n",
       "      <td>0.0000</td>\n",
       "      <td>0.0000</td>\n",
       "      <td>0.0000</td>\n",
       "      <td>0.0000</td>\n",
       "      <td>-21358.6032</td>\n",
       "    </tr>\n",
       "  </tbody>\n",
       "</table>\n",
       "</div>"
      ],
      "text/plain": [
       "          ds       trend  yhat_lower  yhat_upper  trend_lower  trend_upper  \\\n",
       "0 1970-01-01 229046.9126 181015.1615 276782.7375  229046.9126  229046.9126   \n",
       "1 1970-01-02 187312.6598 139092.4230 236039.2995  187312.6598  187312.6598   \n",
       "2 1970-01-03 145578.4071  98799.4248 194506.2203  145578.4071  145578.4071   \n",
       "3 1970-01-04 103844.1545  57815.3808 152322.9214  103844.1545  103844.1545   \n",
       "4 1970-01-05  62109.9019  16643.2384 111101.3224   62109.9019   62109.9019   \n",
       "5 1970-01-06  20375.6493 -27223.6505  68388.4965   20375.6493   20375.6493   \n",
       "6 1970-01-07 -21358.6032 -69876.0267  26496.2179  -21358.6040  -21358.6024   \n",
       "\n",
       "   additive_terms  additive_terms_lower  additive_terms_upper  \\\n",
       "0          0.0000                0.0000                0.0000   \n",
       "1          0.0000                0.0000                0.0000   \n",
       "2          0.0000                0.0000                0.0000   \n",
       "3          0.0000                0.0000                0.0000   \n",
       "4          0.0000                0.0000                0.0000   \n",
       "5          0.0000                0.0000                0.0000   \n",
       "6          0.0000                0.0000                0.0000   \n",
       "\n",
       "   multiplicative_terms  multiplicative_terms_lower  \\\n",
       "0                0.0000                      0.0000   \n",
       "1                0.0000                      0.0000   \n",
       "2                0.0000                      0.0000   \n",
       "3                0.0000                      0.0000   \n",
       "4                0.0000                      0.0000   \n",
       "5                0.0000                      0.0000   \n",
       "6                0.0000                      0.0000   \n",
       "\n",
       "   multiplicative_terms_upper        yhat  \n",
       "0                      0.0000 229046.9126  \n",
       "1                      0.0000 187312.6598  \n",
       "2                      0.0000 145578.4071  \n",
       "3                      0.0000 103844.1545  \n",
       "4                      0.0000  62109.9019  \n",
       "5                      0.0000  20375.6493  \n",
       "6                      0.0000 -21358.6032  "
      ]
     },
     "execution_count": 32,
     "metadata": {},
     "output_type": "execute_result"
    }
   ],
   "source": [
    "future = m.make_future_dataframe(periods=100,freq='D')\n",
    "forecast = m.predict(future)\n",
    "forecast.head(7)\n"
   ]
  },
  {
   "cell_type": "markdown",
   "id": "dated-removal",
   "metadata": {},
   "source": [
    "The model predict a -x payment for the 7th days, so I assume the amount paied on the 7th day is 0$."
   ]
  },
  {
   "cell_type": "code",
   "execution_count": 33,
   "id": "secondary-leadership",
   "metadata": {},
   "outputs": [
    {
     "name": "stdout",
     "output_type": "stream",
     "text": [
      "If we do not call until 7 days past due recovery would be $5224634 \n"
     ]
    }
   ],
   "source": [
    "rec_7=recovery['principalpaid_on_time'].sum()-recovery['total_late'][:-1].sum()\n",
    "print(f\"If we do not call until 7 days past due recovery would be ${rec_7} \")"
   ]
  },
  {
   "cell_type": "markdown",
   "id": "actual-retrieval",
   "metadata": {},
   "source": [
    "# 4. Assuming the distribution of recovery will be the same for december. \n",
    "What will be the daily recovery for this month based on the expected disbursement?"
   ]
  },
  {
   "cell_type": "markdown",
   "id": "italic-difficulty",
   "metadata": {},
   "source": [
    "I ASSUME FOR THIS PROBLEM THAT:\n",
    "- I DON'T KNOW WHAT SHOULD BE PAIED (LATE) DURING THE FIRST 6 DAYS OF THE MONTH\n",
    "- I CANNOT APPLY A DAILY VARIATION FACTOR BECAUSE THE FIRST DATASET ONLY INCLUDE 5 DAYS OF DUE DATES, WHICH DOES NOT GIVE ME ENOUGH GRANULARITY TO GO FURTHER WITH MY ANALYSIS\n",
    "\n",
    "FOR THIS TASK I WILL CALCULATE THE AVERAGE PERCENTAGE OF TOTAL LOAN RECOVERY FOR EACH DAY OF THE MONTH AND APPLY THIS TO THE DAILY LOAN AMOUNT."
   ]
  },
  {
   "cell_type": "code",
   "execution_count": 35,
   "id": "classical-statement",
   "metadata": {},
   "outputs": [],
   "source": [
    "tot_rec=data['loan_amount'].sum()\n",
    "rec_0=(data['principalpal_until_past_due_7_days'].sum())*100/tot_rec\n",
    "rec_1=(recovery.iloc[33]['total_late']*100/tot_rec)\n",
    "rec_2=(recovery.iloc[34]['total_late']*100/tot_rec)\n",
    "rec_3=(recovery.iloc[35]['total_late']*100/tot_rec)\n",
    "rec_4=(recovery.iloc[36]['total_late']*100/tot_rec)\n",
    "rec_5=(recovery.iloc[37]['total_late']*100/tot_rec)\n",
    "rec_6=(recovery.iloc[38]['total_late']*100/tot_rec)\n",
    "rec_7=(recovery.iloc[39]['total_late']*100/tot_rec)\n"
   ]
  },
  {
   "cell_type": "code",
   "execution_count": 36,
   "id": "moral-married",
   "metadata": {},
   "outputs": [],
   "source": [
    "r_1=rec_0+rec_1\n",
    "r_2=rec_0+rec_1+rec_2\n",
    "r_3=rec_0+rec_1+rec_2+rec_3\n",
    "r_4=rec_0+rec_1+rec_2+rec_3+rec_4\n",
    "r_5=rec_0+rec_1+rec_2+rec_3+rec_4+rec_5\n",
    "r_6=rec_0+rec_1+rec_2+rec_3+rec_4+rec_5+rec_6\n",
    "r_7=rec_0+rec_1+rec_2+rec_3+rec_4+rec_5+rec_6+rec_7\n"
   ]
  },
  {
   "cell_type": "code",
   "execution_count": 61,
   "id": "green-banking",
   "metadata": {},
   "outputs": [],
   "source": [
    "december['fix%']=[r_1, r_2, r_3, r_4, r_5, r_6, r_7, r_7, r_7,\\\n",
    "                r_7, r_7, r_7,r_7, r_7, r_7,r_7, r_7, r_7, r_7,\\\n",
    "                r_7, r_7, r_7,r_7, r_7, r_7,r_7, r_7, r_7, r_7, r_7, r_7]"
   ]
  },
  {
   "cell_type": "code",
   "execution_count": 62,
   "id": "reliable-forty",
   "metadata": {},
   "outputs": [],
   "source": [
    "december['recover']=december['loans']*december['fix%']/100\n",
    "december['recover%']=december['loans']*december['fix%']/100"
   ]
  },
  {
   "cell_type": "code",
   "execution_count": 63,
   "id": "official-messenger",
   "metadata": {
    "scrolled": true
   },
   "outputs": [
    {
     "name": "stdout",
     "output_type": "stream",
     "text": [
      "The total recovery is in december is $29447.4out of $34609.54\n"
     ]
    }
   ],
   "source": [
    "print(f\"The total recovery is in december is ${round(december.recover.sum(), 2)}out of ${round(december.loans.sum(), 2)}\")"
   ]
  },
  {
   "cell_type": "code",
   "execution_count": 66,
   "id": "whole-saudi",
   "metadata": {},
   "outputs": [
    {
     "data": {
      "text/html": [
       "<div>\n",
       "<style scoped>\n",
       "    .dataframe tbody tr th:only-of-type {\n",
       "        vertical-align: middle;\n",
       "    }\n",
       "\n",
       "    .dataframe tbody tr th {\n",
       "        vertical-align: top;\n",
       "    }\n",
       "\n",
       "    .dataframe thead th {\n",
       "        text-align: right;\n",
       "    }\n",
       "</style>\n",
       "<table border=\"1\" class=\"dataframe\">\n",
       "  <thead>\n",
       "    <tr style=\"text-align: right;\">\n",
       "      <th></th>\n",
       "      <th>due_date</th>\n",
       "      <th>loans</th>\n",
       "      <th>recover</th>\n",
       "      <th>fix%</th>\n",
       "    </tr>\n",
       "  </thead>\n",
       "  <tbody>\n",
       "    <tr>\n",
       "      <th>0</th>\n",
       "      <td>2018-12-01</td>\n",
       "      <td>1049.0000</td>\n",
       "      <td>863.7657</td>\n",
       "      <td>82.3418</td>\n",
       "    </tr>\n",
       "    <tr>\n",
       "      <th>1</th>\n",
       "      <td>2018-12-02</td>\n",
       "      <td>1009.0000</td>\n",
       "      <td>838.8321</td>\n",
       "      <td>83.1350</td>\n",
       "    </tr>\n",
       "    <tr>\n",
       "      <th>2</th>\n",
       "      <td>2018-12-03</td>\n",
       "      <td>1173.0000</td>\n",
       "      <td>985.6767</td>\n",
       "      <td>84.0304</td>\n",
       "    </tr>\n",
       "    <tr>\n",
       "      <th>3</th>\n",
       "      <td>2018-12-04</td>\n",
       "      <td>1131.0000</td>\n",
       "      <td>956.8245</td>\n",
       "      <td>84.5999</td>\n",
       "    </tr>\n",
       "    <tr>\n",
       "      <th>4</th>\n",
       "      <td>2018-12-05</td>\n",
       "      <td>1023.0000</td>\n",
       "      <td>867.8071</td>\n",
       "      <td>84.8296</td>\n",
       "    </tr>\n",
       "    <tr>\n",
       "      <th>5</th>\n",
       "      <td>2018-12-06</td>\n",
       "      <td>1161.0000</td>\n",
       "      <td>987.3098</td>\n",
       "      <td>85.0396</td>\n",
       "    </tr>\n",
       "    <tr>\n",
       "      <th>6</th>\n",
       "      <td>2018-12-07</td>\n",
       "      <td>1184.0000</td>\n",
       "      <td>1010.3312</td>\n",
       "      <td>85.3320</td>\n",
       "    </tr>\n",
       "    <tr>\n",
       "      <th>7</th>\n",
       "      <td>2018-12-08</td>\n",
       "      <td>1126.0000</td>\n",
       "      <td>960.8386</td>\n",
       "      <td>85.3320</td>\n",
       "    </tr>\n",
       "    <tr>\n",
       "      <th>8</th>\n",
       "      <td>2018-12-09</td>\n",
       "      <td>1187.0000</td>\n",
       "      <td>1012.8912</td>\n",
       "      <td>85.3320</td>\n",
       "    </tr>\n",
       "    <tr>\n",
       "      <th>9</th>\n",
       "      <td>2018-12-10</td>\n",
       "      <td>1075.0000</td>\n",
       "      <td>917.3193</td>\n",
       "      <td>85.3320</td>\n",
       "    </tr>\n",
       "    <tr>\n",
       "      <th>10</th>\n",
       "      <td>2018-12-11</td>\n",
       "      <td>1130.0000</td>\n",
       "      <td>964.2519</td>\n",
       "      <td>85.3320</td>\n",
       "    </tr>\n",
       "    <tr>\n",
       "      <th>11</th>\n",
       "      <td>2018-12-12</td>\n",
       "      <td>1177.0000</td>\n",
       "      <td>1004.3580</td>\n",
       "      <td>85.3320</td>\n",
       "    </tr>\n",
       "    <tr>\n",
       "      <th>12</th>\n",
       "      <td>2018-12-13</td>\n",
       "      <td>1169.0000</td>\n",
       "      <td>997.5314</td>\n",
       "      <td>85.3320</td>\n",
       "    </tr>\n",
       "    <tr>\n",
       "      <th>13</th>\n",
       "      <td>2018-12-14</td>\n",
       "      <td>1142.0000</td>\n",
       "      <td>974.4918</td>\n",
       "      <td>85.3320</td>\n",
       "    </tr>\n",
       "    <tr>\n",
       "      <th>14</th>\n",
       "      <td>2018-12-15</td>\n",
       "      <td>1177.0000</td>\n",
       "      <td>1004.3580</td>\n",
       "      <td>85.3320</td>\n",
       "    </tr>\n",
       "    <tr>\n",
       "      <th>15</th>\n",
       "      <td>2018-12-16</td>\n",
       "      <td>1188.0000</td>\n",
       "      <td>1013.7445</td>\n",
       "      <td>85.3320</td>\n",
       "    </tr>\n",
       "    <tr>\n",
       "      <th>16</th>\n",
       "      <td>2018-12-17</td>\n",
       "      <td>1073.0000</td>\n",
       "      <td>915.6127</td>\n",
       "      <td>85.3320</td>\n",
       "    </tr>\n",
       "    <tr>\n",
       "      <th>17</th>\n",
       "      <td>2018-12-18</td>\n",
       "      <td>1035.0000</td>\n",
       "      <td>883.1865</td>\n",
       "      <td>85.3320</td>\n",
       "    </tr>\n",
       "    <tr>\n",
       "      <th>18</th>\n",
       "      <td>2018-12-19</td>\n",
       "      <td>1094.0000</td>\n",
       "      <td>933.5324</td>\n",
       "      <td>85.3320</td>\n",
       "    </tr>\n",
       "    <tr>\n",
       "      <th>19</th>\n",
       "      <td>2018-12-20</td>\n",
       "      <td>1160.0000</td>\n",
       "      <td>989.8515</td>\n",
       "      <td>85.3320</td>\n",
       "    </tr>\n",
       "    <tr>\n",
       "      <th>20</th>\n",
       "      <td>2018-12-21</td>\n",
       "      <td>1200.0000</td>\n",
       "      <td>1023.9843</td>\n",
       "      <td>85.3320</td>\n",
       "    </tr>\n",
       "    <tr>\n",
       "      <th>21</th>\n",
       "      <td>2018-12-22</td>\n",
       "      <td>1187.0000</td>\n",
       "      <td>1012.8912</td>\n",
       "      <td>85.3320</td>\n",
       "    </tr>\n",
       "    <tr>\n",
       "      <th>22</th>\n",
       "      <td>2018-12-23</td>\n",
       "      <td>1169.0000</td>\n",
       "      <td>997.5314</td>\n",
       "      <td>85.3320</td>\n",
       "    </tr>\n",
       "    <tr>\n",
       "      <th>23</th>\n",
       "      <td>2018-12-24</td>\n",
       "      <td>1013.0000</td>\n",
       "      <td>864.4135</td>\n",
       "      <td>85.3320</td>\n",
       "    </tr>\n",
       "    <tr>\n",
       "      <th>24</th>\n",
       "      <td>2018-12-25</td>\n",
       "      <td>1093.0000</td>\n",
       "      <td>932.6791</td>\n",
       "      <td>85.3320</td>\n",
       "    </tr>\n",
       "    <tr>\n",
       "      <th>25</th>\n",
       "      <td>2018-12-26</td>\n",
       "      <td>1082.0000</td>\n",
       "      <td>923.2926</td>\n",
       "      <td>85.3320</td>\n",
       "    </tr>\n",
       "    <tr>\n",
       "      <th>26</th>\n",
       "      <td>2018-12-27</td>\n",
       "      <td>1076.0000</td>\n",
       "      <td>918.1726</td>\n",
       "      <td>85.3320</td>\n",
       "    </tr>\n",
       "    <tr>\n",
       "      <th>27</th>\n",
       "      <td>2018-12-28</td>\n",
       "      <td>1031.0000</td>\n",
       "      <td>879.7732</td>\n",
       "      <td>85.3320</td>\n",
       "    </tr>\n",
       "    <tr>\n",
       "      <th>28</th>\n",
       "      <td>2018-12-29</td>\n",
       "      <td>1000.0000</td>\n",
       "      <td>853.3203</td>\n",
       "      <td>85.3320</td>\n",
       "    </tr>\n",
       "    <tr>\n",
       "      <th>29</th>\n",
       "      <td>2018-12-30</td>\n",
       "      <td>1193.0000</td>\n",
       "      <td>1018.0111</td>\n",
       "      <td>85.3320</td>\n",
       "    </tr>\n",
       "    <tr>\n",
       "      <th>30</th>\n",
       "      <td>2018-12-31</td>\n",
       "      <td>1102.5385</td>\n",
       "      <td>940.8184</td>\n",
       "      <td>85.3320</td>\n",
       "    </tr>\n",
       "  </tbody>\n",
       "</table>\n",
       "</div>"
      ],
      "text/plain": [
       "     due_date     loans   recover    fix%\n",
       "0  2018-12-01 1049.0000  863.7657 82.3418\n",
       "1  2018-12-02 1009.0000  838.8321 83.1350\n",
       "2  2018-12-03 1173.0000  985.6767 84.0304\n",
       "3  2018-12-04 1131.0000  956.8245 84.5999\n",
       "4  2018-12-05 1023.0000  867.8071 84.8296\n",
       "5  2018-12-06 1161.0000  987.3098 85.0396\n",
       "6  2018-12-07 1184.0000 1010.3312 85.3320\n",
       "7  2018-12-08 1126.0000  960.8386 85.3320\n",
       "8  2018-12-09 1187.0000 1012.8912 85.3320\n",
       "9  2018-12-10 1075.0000  917.3193 85.3320\n",
       "10 2018-12-11 1130.0000  964.2519 85.3320\n",
       "11 2018-12-12 1177.0000 1004.3580 85.3320\n",
       "12 2018-12-13 1169.0000  997.5314 85.3320\n",
       "13 2018-12-14 1142.0000  974.4918 85.3320\n",
       "14 2018-12-15 1177.0000 1004.3580 85.3320\n",
       "15 2018-12-16 1188.0000 1013.7445 85.3320\n",
       "16 2018-12-17 1073.0000  915.6127 85.3320\n",
       "17 2018-12-18 1035.0000  883.1865 85.3320\n",
       "18 2018-12-19 1094.0000  933.5324 85.3320\n",
       "19 2018-12-20 1160.0000  989.8515 85.3320\n",
       "20 2018-12-21 1200.0000 1023.9843 85.3320\n",
       "21 2018-12-22 1187.0000 1012.8912 85.3320\n",
       "22 2018-12-23 1169.0000  997.5314 85.3320\n",
       "23 2018-12-24 1013.0000  864.4135 85.3320\n",
       "24 2018-12-25 1093.0000  932.6791 85.3320\n",
       "25 2018-12-26 1082.0000  923.2926 85.3320\n",
       "26 2018-12-27 1076.0000  918.1726 85.3320\n",
       "27 2018-12-28 1031.0000  879.7732 85.3320\n",
       "28 2018-12-29 1000.0000  853.3203 85.3320\n",
       "29 2018-12-30 1193.0000 1018.0111 85.3320\n",
       "30 2018-12-31 1102.5385  940.8184 85.3320"
      ]
     },
     "execution_count": 66,
     "metadata": {},
     "output_type": "execute_result"
    }
   ],
   "source": [
    "#daily recovery\n",
    "december[['due_date', 'loans', 'recover', 'fix%']]"
   ]
  },
  {
   "cell_type": "markdown",
   "id": "incoming-drinking",
   "metadata": {},
   "source": [
    "# 5. Which segment of users will have better performance about recovery?"
   ]
  },
  {
   "cell_type": "code",
   "execution_count": 56,
   "id": "concrete-sense",
   "metadata": {},
   "outputs": [
    {
     "data": {
      "text/plain": [
       "<AxesSubplot:>"
      ]
     },
     "execution_count": 56,
     "metadata": {},
     "output_type": "execute_result"
    },
    {
     "data": {
      "image/png": "[encoded data removed]",
      "text/plain": [
       "<Figure size 432x288 with 2 Axes>"
      ]
     },
     "metadata": {
      "needs_background": "light"
     },
     "output_type": "display_data"
    }
   ],
   "source": [
    "stat_paid=stat[['_1','loan_amount', 'dependants','age', 'risk_score', '_Hombre','_Mujer', '_control','_experiment','_android', '_ios', '_Educacion', '_Inversion', '_Otros', '_Personal', '_rural', '_urbano']]\n",
    "stat_loan.columns=['paid','loan_amount', 'dependants','age', 'risk_score', 'Hombre','Mujer', 'control','experiment','android', 'ios', 'Educacion', 'Inversion', 'Otros', 'Personal', 'rural', 'urbano']\n",
    "cmap = sns.diverging_palette(120,6,as_cmap=True)\n",
    "sns.heatmap(stat_loan.corr(),cmap=cmap)"
   ]
  },
  {
   "cell_type": "code",
   "execution_count": 57,
   "id": "retained-separation",
   "metadata": {},
   "outputs": [
    {
     "data": {
      "text/html": [
       "<iframe id='facets-iframe' width=\"100%\" height=\"500px\"></iframe>\n",
       "        <script>\n",
       "        facets_iframe = document.getElementById('facets-iframe');\n",
       "        facets_html = '<script src=\"https://cdnjs.cloudflare.com/ajax/libs/webcomponentsjs/1.3.3/webcomponents-lite.js\"><\\/script><link rel=\"import\" href=\"https://raw.githubusercontent.com/PAIR-code/facets/master/facets-dist/facets-jupyter.html\"><facets-overview proto-input=\"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\"></facets-overview>';\n",
       "        facets_iframe.srcdoc = facets_html;\n",
       "         facets_iframe.id = \"\";\n",
       "         setTimeout(() => {\n",
       "           facets_iframe.setAttribute('height', facets_iframe.contentWindow.document.body.offsetHeight + 'px')\n",
       "         }, 1500)\n",
       "         </script>"
      ],
      "text/plain": [
       "<IPython.core.display.HTML object>"
      ]
     },
     "metadata": {},
     "output_type": "display_data"
    }
   ],
   "source": [
    "l = dv.generate_statistics_from_dataframe(loan)\n",
    "p = dv.generate_statistics_from_dataframe(paid)\n",
    "dv.visualize_statistics(lhs_statistics=l,\n",
    "                        rhs_statistics=p)"
   ]
  },
  {
   "cell_type": "code",
   "execution_count": 74,
   "id": "talented-flight",
   "metadata": {},
   "outputs": [
    {
     "data": {
      "text/html": [
       "<div>\n",
       "<style scoped>\n",
       "    .dataframe tbody tr th:only-of-type {\n",
       "        vertical-align: middle;\n",
       "    }\n",
       "\n",
       "    .dataframe tbody tr th {\n",
       "        vertical-align: top;\n",
       "    }\n",
       "\n",
       "    .dataframe thead th {\n",
       "        text-align: right;\n",
       "    }\n",
       "</style>\n",
       "<table border=\"1\" class=\"dataframe\">\n",
       "  <thead>\n",
       "    <tr style=\"text-align: right;\">\n",
       "      <th></th>\n",
       "      <th>experiment</th>\n",
       "      <th>loan_amount</th>\n",
       "      <th>dependants</th>\n",
       "      <th>device</th>\n",
       "      <th>loan_usage</th>\n",
       "      <th>age</th>\n",
       "      <th>risk_score</th>\n",
       "      <th>gender</th>\n",
       "      <th>urban_city</th>\n",
       "    </tr>\n",
       "  </thead>\n",
       "  <tbody>\n",
       "    <tr>\n",
       "      <th>1</th>\n",
       "      <td>experiment</td>\n",
       "      <td>2400</td>\n",
       "      <td>2</td>\n",
       "      <td>ios</td>\n",
       "      <td>Educacion</td>\n",
       "      <td>41</td>\n",
       "      <td>0.9410</td>\n",
       "      <td>Mujer</td>\n",
       "      <td>urbano</td>\n",
       "    </tr>\n",
       "    <tr>\n",
       "      <th>2</th>\n",
       "      <td>control</td>\n",
       "      <td>1900</td>\n",
       "      <td>0</td>\n",
       "      <td>ios</td>\n",
       "      <td>Educacion</td>\n",
       "      <td>45</td>\n",
       "      <td>0.9450</td>\n",
       "      <td>Mujer</td>\n",
       "      <td>urbano</td>\n",
       "    </tr>\n",
       "  </tbody>\n",
       "</table>\n",
       "</div>"
      ],
      "text/plain": [
       "   experiment  loan_amount  dependants device loan_usage  age  risk_score  \\\n",
       "1  experiment         2400           2    ios  Educacion   41      0.9410   \n",
       "2     control         1900           0    ios  Educacion   45      0.9450   \n",
       "\n",
       "  gender urban_city  \n",
       "1  Mujer     urbano  \n",
       "2  Mujer     urbano  "
      ]
     },
     "execution_count": 74,
     "metadata": {},
     "output_type": "execute_result"
    }
   ],
   "source": [
    "edu=paid[paid['loan_usage']=='Educacion']\n"
   ]
  },
  {
   "cell_type": "markdown",
   "id": "experienced-portal",
   "metadata": {},
   "source": [
    "IF WE CHECK THE CORRELATION GRAPHIC WE CAN SEE THERE IS NOT A WELL DEFINES GROUP, EXCEPT FOR TWO COMPONENTS:\n",
    "- RISK RATE VALUE (higher than 0.9)\n",
    "- 'EDUCATION' LOAN USAGE\n",
    "\n",
    "HOWEVER THOSE CORRELATIONS ARE QUITE WEAK IN BOTH WAYS (POSITIVE AND NEGATIVE). WE CAN SEE THESE INTO THE OTHER CHARTS HERE BELOW.\n"
   ]
  },
  {
   "cell_type": "code",
   "execution_count": 84,
   "id": "geographic-baptist",
   "metadata": {},
   "outputs": [],
   "source": [
    "edu=paid[paid['loan_usage']=='Educacion']"
   ]
  },
  {
   "cell_type": "markdown",
   "id": "nonprofit-fence",
   "metadata": {},
   "source": [
    "I check risk avg on Education loan usage to prove this: \n",
    "it has to be higher than 0.9"
   ]
  },
  {
   "cell_type": "code",
   "execution_count": 85,
   "id": "golden-saturday",
   "metadata": {},
   "outputs": [
    {
     "data": {
      "text/plain": [
       "0.9327949846018475"
      ]
     },
     "execution_count": 85,
     "metadata": {},
     "output_type": "execute_result"
    }
   ],
   "source": [
    "np.mean(edu['risk_score'])"
   ]
  },
  {
   "cell_type": "markdown",
   "id": "discrete-mining",
   "metadata": {},
   "source": [
    "LOAN USERS FOR EDUCATIONAL PURPOSES SHOULD HAVE A HIGHER ACCEPTANCE RATE"
   ]
  },
  {
   "cell_type": "code",
   "execution_count": null,
   "id": "limited-washington",
   "metadata": {},
   "outputs": [],
   "source": []
  }
 ],
 "metadata": {
  "kernelspec": {
   "display_name": "Python 3",
   "language": "python",
   "name": "python3"
  },
  "language_info": {
   "codemirror_mode": {
    "name": "ipython",
    "version": 3
   },
   "file_extension": ".py",
   "mimetype": "text/x-python",
   "name": "python",
   "nbconvert_exporter": "python",
   "pygments_lexer": "ipython3",
   "version": "3.8.6"
  }
 },
 "nbformat": 4,
 "nbformat_minor": 5
}
